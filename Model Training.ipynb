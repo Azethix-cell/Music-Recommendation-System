{
 "cells": [
  {
   "cell_type": "code",
   "execution_count": 35,
   "id": "50ac34ed",
   "metadata": {},
   "outputs": [],
   "source": [
    "import pandas as pd"
   ]
  },
  {
   "cell_type": "code",
   "execution_count": 36,
   "id": "8d218487",
   "metadata": {},
   "outputs": [],
   "source": [
    "df = pd.read_csv(r\"C:\\Users\\ASUS-1\\Music Recommendation System\\million_song_with_genre_and_mood.csv\")\n"
   ]
  },
  {
   "cell_type": "code",
   "execution_count": 37,
   "id": "79919672",
   "metadata": {},
   "outputs": [
    {
     "data": {
      "text/html": [
       "<div>\n",
       "<style scoped>\n",
       "    .dataframe tbody tr th:only-of-type {\n",
       "        vertical-align: middle;\n",
       "    }\n",
       "\n",
       "    .dataframe tbody tr th {\n",
       "        vertical-align: top;\n",
       "    }\n",
       "\n",
       "    .dataframe thead th {\n",
       "        text-align: right;\n",
       "    }\n",
       "</style>\n",
       "<table border=\"1\" class=\"dataframe\">\n",
       "  <thead>\n",
       "    <tr style=\"text-align: right;\">\n",
       "      <th></th>\n",
       "      <th>artist</th>\n",
       "      <th>song</th>\n",
       "      <th>link</th>\n",
       "      <th>text</th>\n",
       "      <th>genre</th>\n",
       "      <th>mood</th>\n",
       "    </tr>\n",
       "  </thead>\n",
       "  <tbody>\n",
       "    <tr>\n",
       "      <th>0</th>\n",
       "      <td>ABBA</td>\n",
       "      <td>Ahe's My Kind Of Girl</td>\n",
       "      <td>/a/abba/ahes+my+kind+of+girl_20598417.html</td>\n",
       "      <td>Look at her face, it's a wonderful face  \\r\\nA...</td>\n",
       "      <td>Rock</td>\n",
       "      <td>happy</td>\n",
       "    </tr>\n",
       "    <tr>\n",
       "      <th>1</th>\n",
       "      <td>ABBA</td>\n",
       "      <td>Andante, Andante</td>\n",
       "      <td>/a/abba/andante+andante_20002708.html</td>\n",
       "      <td>Take it easy with me, please  \\r\\nTouch me gen...</td>\n",
       "      <td>Rock</td>\n",
       "      <td>happy</td>\n",
       "    </tr>\n",
       "    <tr>\n",
       "      <th>2</th>\n",
       "      <td>ABBA</td>\n",
       "      <td>As Good As New</td>\n",
       "      <td>/a/abba/as+good+as+new_20003033.html</td>\n",
       "      <td>I'll never know why I had to go  \\r\\nWhy I had...</td>\n",
       "      <td>Rock</td>\n",
       "      <td>happy</td>\n",
       "    </tr>\n",
       "    <tr>\n",
       "      <th>3</th>\n",
       "      <td>ABBA</td>\n",
       "      <td>Bang</td>\n",
       "      <td>/a/abba/bang_20598415.html</td>\n",
       "      <td>Making somebody happy is a question of give an...</td>\n",
       "      <td>Rock</td>\n",
       "      <td>happy</td>\n",
       "    </tr>\n",
       "    <tr>\n",
       "      <th>4</th>\n",
       "      <td>ABBA</td>\n",
       "      <td>Bang-A-Boomerang</td>\n",
       "      <td>/a/abba/bang+a+boomerang_20002668.html</td>\n",
       "      <td>Making somebody happy is a question of give an...</td>\n",
       "      <td>Rock</td>\n",
       "      <td>happy</td>\n",
       "    </tr>\n",
       "  </tbody>\n",
       "</table>\n",
       "</div>"
      ],
      "text/plain": [
       "  artist                   song                                        link  \\\n",
       "0   ABBA  Ahe's My Kind Of Girl  /a/abba/ahes+my+kind+of+girl_20598417.html   \n",
       "1   ABBA       Andante, Andante       /a/abba/andante+andante_20002708.html   \n",
       "2   ABBA         As Good As New        /a/abba/as+good+as+new_20003033.html   \n",
       "3   ABBA                   Bang                  /a/abba/bang_20598415.html   \n",
       "4   ABBA       Bang-A-Boomerang      /a/abba/bang+a+boomerang_20002668.html   \n",
       "\n",
       "                                                text genre   mood  \n",
       "0  Look at her face, it's a wonderful face  \\r\\nA...  Rock  happy  \n",
       "1  Take it easy with me, please  \\r\\nTouch me gen...  Rock  happy  \n",
       "2  I'll never know why I had to go  \\r\\nWhy I had...  Rock  happy  \n",
       "3  Making somebody happy is a question of give an...  Rock  happy  \n",
       "4  Making somebody happy is a question of give an...  Rock  happy  "
      ]
     },
     "execution_count": 37,
     "metadata": {},
     "output_type": "execute_result"
    }
   ],
   "source": [
    "df.head(5)"
   ]
  },
  {
   "cell_type": "code",
   "execution_count": 38,
   "id": "b61c723f",
   "metadata": {},
   "outputs": [
    {
     "data": {
      "text/html": [
       "<div>\n",
       "<style scoped>\n",
       "    .dataframe tbody tr th:only-of-type {\n",
       "        vertical-align: middle;\n",
       "    }\n",
       "\n",
       "    .dataframe tbody tr th {\n",
       "        vertical-align: top;\n",
       "    }\n",
       "\n",
       "    .dataframe thead th {\n",
       "        text-align: right;\n",
       "    }\n",
       "</style>\n",
       "<table border=\"1\" class=\"dataframe\">\n",
       "  <thead>\n",
       "    <tr style=\"text-align: right;\">\n",
       "      <th></th>\n",
       "      <th>artist</th>\n",
       "      <th>song</th>\n",
       "      <th>link</th>\n",
       "      <th>text</th>\n",
       "      <th>genre</th>\n",
       "      <th>mood</th>\n",
       "    </tr>\n",
       "  </thead>\n",
       "  <tbody>\n",
       "    <tr>\n",
       "      <th>57645</th>\n",
       "      <td>Ziggy Marley</td>\n",
       "      <td>Good Old Days</td>\n",
       "      <td>/z/ziggy+marley/good+old+days_10198588.html</td>\n",
       "      <td>Irie days come on play  \\r\\nLet the angels fly...</td>\n",
       "      <td>Rock</td>\n",
       "      <td>happy</td>\n",
       "    </tr>\n",
       "    <tr>\n",
       "      <th>57646</th>\n",
       "      <td>Ziggy Marley</td>\n",
       "      <td>Hand To Mouth</td>\n",
       "      <td>/z/ziggy+marley/hand+to+mouth_20531167.html</td>\n",
       "      <td>Power to the workers  \\r\\nMore power  \\r\\nPowe...</td>\n",
       "      <td>Rock</td>\n",
       "      <td>neutral</td>\n",
       "    </tr>\n",
       "    <tr>\n",
       "      <th>57647</th>\n",
       "      <td>Zwan</td>\n",
       "      <td>Come With Me</td>\n",
       "      <td>/z/zwan/come+with+me_20148981.html</td>\n",
       "      <td>all you need  \\r\\nis something i'll believe  \\...</td>\n",
       "      <td>Pop</td>\n",
       "      <td>neutral</td>\n",
       "    </tr>\n",
       "    <tr>\n",
       "      <th>57648</th>\n",
       "      <td>Zwan</td>\n",
       "      <td>Desire</td>\n",
       "      <td>/z/zwan/desire_20148986.html</td>\n",
       "      <td>northern star  \\r\\nam i frightened  \\r\\nwhere ...</td>\n",
       "      <td>Rock</td>\n",
       "      <td>happy</td>\n",
       "    </tr>\n",
       "    <tr>\n",
       "      <th>57649</th>\n",
       "      <td>Zwan</td>\n",
       "      <td>Heartsong</td>\n",
       "      <td>/z/zwan/heartsong_20148991.html</td>\n",
       "      <td>come in  \\r\\nmake yourself at home  \\r\\ni'm a ...</td>\n",
       "      <td>Rock</td>\n",
       "      <td>neutral</td>\n",
       "    </tr>\n",
       "  </tbody>\n",
       "</table>\n",
       "</div>"
      ],
      "text/plain": [
       "             artist           song  \\\n",
       "57645  Ziggy Marley  Good Old Days   \n",
       "57646  Ziggy Marley  Hand To Mouth   \n",
       "57647          Zwan   Come With Me   \n",
       "57648          Zwan         Desire   \n",
       "57649          Zwan      Heartsong   \n",
       "\n",
       "                                              link  \\\n",
       "57645  /z/ziggy+marley/good+old+days_10198588.html   \n",
       "57646  /z/ziggy+marley/hand+to+mouth_20531167.html   \n",
       "57647           /z/zwan/come+with+me_20148981.html   \n",
       "57648                 /z/zwan/desire_20148986.html   \n",
       "57649              /z/zwan/heartsong_20148991.html   \n",
       "\n",
       "                                                    text genre     mood  \n",
       "57645  Irie days come on play  \\r\\nLet the angels fly...  Rock    happy  \n",
       "57646  Power to the workers  \\r\\nMore power  \\r\\nPowe...  Rock  neutral  \n",
       "57647  all you need  \\r\\nis something i'll believe  \\...   Pop  neutral  \n",
       "57648  northern star  \\r\\nam i frightened  \\r\\nwhere ...  Rock    happy  \n",
       "57649  come in  \\r\\nmake yourself at home  \\r\\ni'm a ...  Rock  neutral  "
      ]
     },
     "execution_count": 38,
     "metadata": {},
     "output_type": "execute_result"
    }
   ],
   "source": [
    "df.tail(5)"
   ]
  },
  {
   "cell_type": "code",
   "execution_count": 39,
   "id": "d7d8fa2a",
   "metadata": {},
   "outputs": [
    {
     "data": {
      "text/plain": [
       "(57650, 6)"
      ]
     },
     "execution_count": 39,
     "metadata": {},
     "output_type": "execute_result"
    }
   ],
   "source": [
    "df.shape"
   ]
  },
  {
   "cell_type": "code",
   "execution_count": 40,
   "id": "a8fdecf9",
   "metadata": {},
   "outputs": [
    {
     "data": {
      "text/plain": [
       "artist    0\n",
       "song      0\n",
       "link      0\n",
       "text      0\n",
       "genre     0\n",
       "mood      0\n",
       "dtype: int64"
      ]
     },
     "execution_count": 40,
     "metadata": {},
     "output_type": "execute_result"
    }
   ],
   "source": [
    "df.isnull().sum()"
   ]
  },
  {
   "cell_type": "code",
   "execution_count": 41,
   "id": "dde3d24b",
   "metadata": {},
   "outputs": [],
   "source": [
    "n = min(5000, len(df))\n",
    "df = df.sample(n).drop('link', axis=1).reset_index(drop=True)"
   ]
  },
  {
   "cell_type": "code",
   "execution_count": 42,
   "id": "cf5ff69f",
   "metadata": {},
   "outputs": [
    {
     "data": {
      "text/html": [
       "<div>\n",
       "<style scoped>\n",
       "    .dataframe tbody tr th:only-of-type {\n",
       "        vertical-align: middle;\n",
       "    }\n",
       "\n",
       "    .dataframe tbody tr th {\n",
       "        vertical-align: top;\n",
       "    }\n",
       "\n",
       "    .dataframe thead th {\n",
       "        text-align: right;\n",
       "    }\n",
       "</style>\n",
       "<table border=\"1\" class=\"dataframe\">\n",
       "  <thead>\n",
       "    <tr style=\"text-align: right;\">\n",
       "      <th></th>\n",
       "      <th>artist</th>\n",
       "      <th>song</th>\n",
       "      <th>text</th>\n",
       "      <th>genre</th>\n",
       "      <th>mood</th>\n",
       "    </tr>\n",
       "  </thead>\n",
       "  <tbody>\n",
       "    <tr>\n",
       "      <th>0</th>\n",
       "      <td>Celine Dion</td>\n",
       "      <td>Little Bit Of Love</td>\n",
       "      <td>(C. Gaudette, A. Scott)  \\r\\n  \\r\\nLook at you...</td>\n",
       "      <td>Rock</td>\n",
       "      <td>neutral</td>\n",
       "    </tr>\n",
       "    <tr>\n",
       "      <th>1</th>\n",
       "      <td>Nirvana</td>\n",
       "      <td>Been A Son</td>\n",
       "      <td>She should have stayed away from friends  \\r\\n...</td>\n",
       "      <td>Rock</td>\n",
       "      <td>happy</td>\n",
       "    </tr>\n",
       "    <tr>\n",
       "      <th>2</th>\n",
       "      <td>Marillion</td>\n",
       "      <td>One Fine Day</td>\n",
       "      <td>When we were young we used to say  \\r\\nThings ...</td>\n",
       "      <td>Rock</td>\n",
       "      <td>neutral</td>\n",
       "    </tr>\n",
       "    <tr>\n",
       "      <th>3</th>\n",
       "      <td>Hillsong United</td>\n",
       "      <td>I Will Run To You</td>\n",
       "      <td>Your eye is on the sparrow  \\r\\nAnd Your hand,...</td>\n",
       "      <td>Rock</td>\n",
       "      <td>happy</td>\n",
       "    </tr>\n",
       "    <tr>\n",
       "      <th>4</th>\n",
       "      <td>Eurythmics</td>\n",
       "      <td>Cool Blue</td>\n",
       "      <td>Blue the color suits you cool blue  \\r\\nHow wi...</td>\n",
       "      <td>Rock</td>\n",
       "      <td>neutral</td>\n",
       "    </tr>\n",
       "    <tr>\n",
       "      <th>5</th>\n",
       "      <td>Electric Light Orchestra</td>\n",
       "      <td>Xanadu</td>\n",
       "      <td>A place where nobody dared to go  \\r\\nThe love...</td>\n",
       "      <td>Rock</td>\n",
       "      <td>happy</td>\n",
       "    </tr>\n",
       "    <tr>\n",
       "      <th>6</th>\n",
       "      <td>Flo-Rida</td>\n",
       "      <td>Ms. Hangover</td>\n",
       "      <td>[Chorus:]  \\r\\nShe had Hennessey hips, and Bel...</td>\n",
       "      <td>Hip-Hop</td>\n",
       "      <td>neutral</td>\n",
       "    </tr>\n",
       "    <tr>\n",
       "      <th>7</th>\n",
       "      <td>Clash</td>\n",
       "      <td>1-2 Crush On You</td>\n",
       "      <td>Standing in a queue of a school canteen  \\r\\nG...</td>\n",
       "      <td>Rock</td>\n",
       "      <td>neutral</td>\n",
       "    </tr>\n",
       "    <tr>\n",
       "      <th>8</th>\n",
       "      <td>Diana Ross</td>\n",
       "      <td>A Dream Is A Wish Your Heart Makes</td>\n",
       "      <td>A dream is a wish your heart makes  \\r\\nWhen y...</td>\n",
       "      <td>Rock</td>\n",
       "      <td>happy</td>\n",
       "    </tr>\n",
       "    <tr>\n",
       "      <th>9</th>\n",
       "      <td>Dave Matthews Band</td>\n",
       "      <td>My Heart Is Yours</td>\n",
       "      <td>When you hold my hand time stands still  \\r\\nW...</td>\n",
       "      <td>Rock</td>\n",
       "      <td>happy</td>\n",
       "    </tr>\n",
       "  </tbody>\n",
       "</table>\n",
       "</div>"
      ],
      "text/plain": [
       "                     artist                                song  \\\n",
       "0               Celine Dion                  Little Bit Of Love   \n",
       "1                   Nirvana                          Been A Son   \n",
       "2                 Marillion                        One Fine Day   \n",
       "3           Hillsong United                   I Will Run To You   \n",
       "4                Eurythmics                           Cool Blue   \n",
       "5  Electric Light Orchestra                              Xanadu   \n",
       "6                  Flo-Rida                        Ms. Hangover   \n",
       "7                     Clash                    1-2 Crush On You   \n",
       "8                Diana Ross  A Dream Is A Wish Your Heart Makes   \n",
       "9        Dave Matthews Band                   My Heart Is Yours   \n",
       "\n",
       "                                                text    genre     mood  \n",
       "0  (C. Gaudette, A. Scott)  \\r\\n  \\r\\nLook at you...     Rock  neutral  \n",
       "1  She should have stayed away from friends  \\r\\n...     Rock    happy  \n",
       "2  When we were young we used to say  \\r\\nThings ...     Rock  neutral  \n",
       "3  Your eye is on the sparrow  \\r\\nAnd Your hand,...     Rock    happy  \n",
       "4  Blue the color suits you cool blue  \\r\\nHow wi...     Rock  neutral  \n",
       "5  A place where nobody dared to go  \\r\\nThe love...     Rock    happy  \n",
       "6  [Chorus:]  \\r\\nShe had Hennessey hips, and Bel...  Hip-Hop  neutral  \n",
       "7  Standing in a queue of a school canteen  \\r\\nG...     Rock  neutral  \n",
       "8  A dream is a wish your heart makes  \\r\\nWhen y...     Rock    happy  \n",
       "9  When you hold my hand time stands still  \\r\\nW...     Rock    happy  "
      ]
     },
     "execution_count": 42,
     "metadata": {},
     "output_type": "execute_result"
    }
   ],
   "source": [
    "df.head(10)"
   ]
  },
  {
   "cell_type": "code",
   "execution_count": 43,
   "id": "26eb5b1c",
   "metadata": {},
   "outputs": [
    {
     "data": {
      "text/plain": [
       "\"(C. Gaudette, A. Scott)  \\r\\n  \\r\\nLook at you baby  \\r\\nThe picture of a broken man  \\r\\nYour confidence is shaken  \\r\\nThe world caved in on you again  \\r\\nBut I know what to do to ease the pain  \\r\\nAnd bring you back to life again  \\r\\n  \\r\\n(Chorus I)  \\r\\nA little bit of love  \\r\\nCan go a long way sometimes  \\r\\nA little bit of love  \\r\\nIs really all you need  \\r\\nWhen life gets tough you need  \\r\\nA little bit of love sometimes  \\r\\n  \\r\\nOh baby hold me  \\r\\nLet all that anger disappear  \\r\\nA little smile is showing  \\r\\nSomething's catching fire here  \\r\\nAnd when the morning comes you'll be good as new  \\r\\nYou'll take this night that we've shared with you  \\r\\n  \\r\\n(Chorus ii)  \\r\\nA little bit of love  \\r\\nCan go a long way sometimes  \\r\\nA little bit of love  \\r\\nIs really all you need  \\r\\nWhen life gets tough you need  \\r\\nA little bit of love sometimes  \\r\\nA little bit of love  \\r\\nCan go a long way sometimes  \\r\\nA little bit of love  \\r\\nIs stronger than anything  \\r\\nWords ain't enough you need  \\r\\nA little bit of love sometimes  \\r\\n  \\r\\n[Bridge:] You've done it before, you'll do it again  \\r\\nGet up off the floor, and jump right back in  \\r\\nBaby, I still believe in you  \\r\\nAnd we'll see this through  \\r\\n'Cause true love is on our side  \\r\\n  \\r\\n(Breakdown)  \\r\\nA little bit, a little bit  \\r\\n  \\r\\n(Solo)  \\r\\n  \\r\\n(Chorus iii)  \\r\\nA little bit of love  \\r\\nCan go a long way sometimes  \\r\\nA little bit of love  \\r\\nIs really all you need  \\r\\nWhen life gets tough you need  \\r\\nA little bit of love sometimes  \\r\\nA little bit of love  \\r\\nCan go a long way sometimes  \\r\\nA little bit of love  \\r\\nIs really all you need  \\r\\nWhen life gets tough you need  \\r\\nA little bit of love sometimes  \\r\\nA little bit of love\\r\\n\\r\\n\""
      ]
     },
     "execution_count": 43,
     "metadata": {},
     "output_type": "execute_result"
    }
   ],
   "source": [
    "df['text'][0]"
   ]
  },
  {
   "cell_type": "code",
   "execution_count": 44,
   "id": "dc76d0f4",
   "metadata": {},
   "outputs": [],
   "source": [
    "#df = df.sample(5000)"
   ]
  },
  {
   "cell_type": "code",
   "execution_count": 45,
   "id": "4a0c4186",
   "metadata": {},
   "outputs": [
    {
     "data": {
      "text/plain": [
       "(5000, 5)"
      ]
     },
     "execution_count": 45,
     "metadata": {},
     "output_type": "execute_result"
    }
   ],
   "source": [
    "df.shape"
   ]
  },
  {
   "cell_type": "markdown",
   "id": "865afecc",
   "metadata": {},
   "source": [
    "Text Cleaning/ Text Preprocessing"
   ]
  },
  {
   "cell_type": "code",
   "execution_count": 46,
   "id": "b2359525",
   "metadata": {},
   "outputs": [],
   "source": [
    "df['text'] = df['text'].str.lower().replace(r'^\\w\\s', ' ').replace(r'\\n', ' ', regex = True)"
   ]
  },
  {
   "cell_type": "code",
   "execution_count": 47,
   "id": "7e78451e",
   "metadata": {},
   "outputs": [],
   "source": [
    "import nltk\n",
    "from nltk.stem.porter import PorterStemmer\n",
    "stemmer = PorterStemmer()\n",
    "\n",
    "def tokenization(txt):\n",
    "    tokens = nltk.word_tokenize(txt)\n",
    "    stemming = [stemmer.stem(w) for w in tokens]\n",
    "    return \" \".join(stemming)"
   ]
  },
  {
   "cell_type": "code",
   "execution_count": 48,
   "id": "f5c1ece2",
   "metadata": {},
   "outputs": [
    {
     "name": "stderr",
     "output_type": "stream",
     "text": [
      "[nltk_data] Downloading package punkt to\n",
      "[nltk_data]     C:\\Users\\ASUS-1\\AppData\\Roaming\\nltk_data...\n",
      "[nltk_data]   Package punkt is already up-to-date!\n"
     ]
    },
    {
     "data": {
      "text/plain": [
       "True"
      ]
     },
     "execution_count": 48,
     "metadata": {},
     "output_type": "execute_result"
    }
   ],
   "source": [
    "nltk.download('punkt')"
   ]
  },
  {
   "cell_type": "code",
   "execution_count": 49,
   "id": "95fc3be2",
   "metadata": {},
   "outputs": [],
   "source": [
    "from sklearn.feature_extraction.text import TfidfVectorizer\n",
    "from sklearn.metrics.pairwise import cosine_similarity"
   ]
  },
  {
   "cell_type": "code",
   "execution_count": 50,
   "id": "f4945e8f",
   "metadata": {},
   "outputs": [],
   "source": [
    "# Fill NaN values in 'text' column with empty string\n",
    "df['text'] = df['text'].fillna('')\n",
    "\n",
    "tfidvector = TfidfVectorizer(analyzer='word', stop_words='english')\n",
    "matrix = tfidvector.fit_transform(df['text'])\n",
    "similarity = cosine_similarity(matrix)"
   ]
  },
  {
   "cell_type": "code",
   "execution_count": 51,
   "id": "c1794772",
   "metadata": {},
   "outputs": [
    {
     "data": {
      "text/plain": [
       "array([1.        , 0.        , 0.01992793, ..., 0.07088509, 0.02492222,\n",
       "       0.04560903])"
      ]
     },
     "execution_count": 51,
     "metadata": {},
     "output_type": "execute_result"
    }
   ],
   "source": [
    "similarity[0]"
   ]
  },
  {
   "cell_type": "code",
   "execution_count": 52,
   "id": "a6221770",
   "metadata": {},
   "outputs": [
    {
     "data": {
      "text/html": [
       "<div>\n",
       "<style scoped>\n",
       "    .dataframe tbody tr th:only-of-type {\n",
       "        vertical-align: middle;\n",
       "    }\n",
       "\n",
       "    .dataframe tbody tr th {\n",
       "        vertical-align: top;\n",
       "    }\n",
       "\n",
       "    .dataframe thead th {\n",
       "        text-align: right;\n",
       "    }\n",
       "</style>\n",
       "<table border=\"1\" class=\"dataframe\">\n",
       "  <thead>\n",
       "    <tr style=\"text-align: right;\">\n",
       "      <th></th>\n",
       "      <th>artist</th>\n",
       "      <th>song</th>\n",
       "      <th>text</th>\n",
       "      <th>genre</th>\n",
       "      <th>mood</th>\n",
       "    </tr>\n",
       "  </thead>\n",
       "  <tbody>\n",
       "  </tbody>\n",
       "</table>\n",
       "</div>"
      ],
      "text/plain": [
       "Empty DataFrame\n",
       "Columns: [artist, song, text, genre, mood]\n",
       "Index: []"
      ]
     },
     "execution_count": 52,
     "metadata": {},
     "output_type": "execute_result"
    }
   ],
   "source": [
    "df[df['song'] == 'Crying Over You']"
   ]
  },
  {
   "cell_type": "code",
   "execution_count": 53,
   "id": "5aaa2361",
   "metadata": {},
   "outputs": [],
   "source": [
    "def recommendation(song_df):\n",
    "    idx = df[df['song'] == song_df].index[0]\n",
    "    distances = sorted(list(enumerate(similarity[idx])),reverse=True,key=lambda x:x[1])\n",
    "    \n",
    "    songs = []\n",
    "    for m_id in distances[1:21]:\n",
    "        songs.append(df.iloc[m_id[0]].song)\n",
    "        \n",
    "    return songs"
   ]
  },
  {
   "cell_type": "code",
   "execution_count": 54,
   "id": "216c25bb",
   "metadata": {},
   "outputs": [
    {
     "name": "stdout",
     "output_type": "stream",
     "text": [
      "['Beautiful', 'How Long Will I Love You?', 'How Long', 'Good Morning Beautiful', 'How Long Will It Take', 'Itchycoo Park', 'Land Of Danger', 'Cat People', \"Oh What A Beautiful Mornin'\", 'It Takes So Long (To Say Goodbye)', 'How Long', 'Beautiful In This Mirror', 'Drop Dead Beautiful', 'Shine', \"I Won't Change The Way That I Feel\", 'Forever', \"Don't Panic\", 'The Horrible People', 'Just Because', \"It's All About You\"]\n"
     ]
    }
   ],
   "source": [
    "song_name = 'Beautiful'\n",
    "if song_name in df['song'].values:\n",
    "\tprint(recommendation(song_name))\n",
    "else:\n",
    "\tprint(f\"'{song_name}' not found in the DataFrame.\")"
   ]
  },
  {
   "cell_type": "code",
   "execution_count": 55,
   "id": "18192437",
   "metadata": {},
   "outputs": [],
   "source": [
    "import pickle\n",
    "pickle.dump(similarity,open('similarity.pkl','wb'))\n",
    "pickle.dump(df,open('df.pkl','wb'))"
   ]
  },
  {
   "cell_type": "code",
   "execution_count": null,
   "id": "81d2a5be",
   "metadata": {},
   "outputs": [],
   "source": []
  },
  {
   "cell_type": "code",
   "execution_count": null,
   "id": "79cccf7a",
   "metadata": {},
   "outputs": [],
   "source": []
  },
  {
   "cell_type": "code",
   "execution_count": null,
   "id": "24dd91ea",
   "metadata": {},
   "outputs": [],
   "source": []
  }
 ],
 "metadata": {
  "kernelspec": {
   "display_name": "base",
   "language": "python",
   "name": "python3"
  },
  "language_info": {
   "codemirror_mode": {
    "name": "ipython",
    "version": 3
   },
   "file_extension": ".py",
   "mimetype": "text/x-python",
   "name": "python",
   "nbconvert_exporter": "python",
   "pygments_lexer": "ipython3",
   "version": "3.12.7"
  }
 },
 "nbformat": 4,
 "nbformat_minor": 5
}
