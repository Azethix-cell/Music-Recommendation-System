{
 "cells": [
  {
   "cell_type": "code",
   "execution_count": 9,
   "id": "380ef36c",
   "metadata": {},
   "outputs": [],
   "source": [
    "import pandas as pd\n",
    "\n",
    "df = pd.read_csv(r'c:\\Users\\ASUS-1\\Downloads\\archive (3)\\spotify_millsongdata.csv')"
   ]
  },
  {
   "cell_type": "code",
   "execution_count": 17,
   "id": "182dafde",
   "metadata": {},
   "outputs": [
    {
     "name": "stderr",
     "output_type": "stream",
     "text": [
      "Device set to use cpu\n"
     ]
    }
   ],
   "source": [
    "import pandas as pd\n",
    "from transformers import pipeline\n",
    "\n",
    "# Load your dataset (replace with your actual file)\n",
    "df = pd.read_csv(r'c:\\Users\\ASUS-1\\Downloads\\archive (3)\\spotify_millsongdata.csv') # Should have a 'lyrics' column\n",
    "\n",
    "# Load the pre-trained lyrics-to-genre model\n",
    "genre_classifier = pipeline(\"text-classification\", model=\"Veucci/lyric-to-genre\")\n",
    "\n",
    "def predict_genre(text):\n",
    "    if pd.isnull(text) or not isinstance(text, str) or len(text.strip()) == 0:\n",
    "        return \"Unknown\"\n",
    "    try:\n",
    "        # Truncate to 512 characters for efficiency and model input limits\n",
    "        result = genre_classifier(text[:512])\n",
    "        return result[0]['label'] if result else \"Unknown\"\n",
    "    except Exception as e:\n",
    "        print(f\"Error: {e}\")\n",
    "        return \"Unknown\"\n",
    "\n",
    "# Apply the function to the lyrics column\n",
    "df['genre'] = df['text'].apply(predict_genre)\n",
    "\n",
    "# Save the result\n",
    "df.to_csv('million_song_with_genre.csv', index=False)\n"
   ]
  },
  {
   "cell_type": "code",
   "execution_count": 23,
   "id": "853499e5",
   "metadata": {},
   "outputs": [],
   "source": [
    "import pandas as pd\n",
    "\n",
    "df = pd.read_csv('million_song_with_genre.csv')"
   ]
  },
  {
   "cell_type": "code",
   "execution_count": 24,
   "id": "bb626b15",
   "metadata": {},
   "outputs": [],
   "source": [
    "from textblob import TextBlob\n",
    "\n",
    "def get_mood(text):\n",
    "    if pd.isnull(text) or not isinstance(text, str) or len(text.strip()) == 0:\n",
    "        return \"Unknown\"\n",
    "    polarity = TextBlob(text).sentiment.polarity\n",
    "    if polarity > 0.2:\n",
    "        return \"happy\"\n",
    "    elif polarity < -0.2:\n",
    "        return \"sad\"\n",
    "    else:\n",
    "        return \"neutral\"\n",
    "\n",
    "# Assuming your lyrics column is called 'text'\n",
    "df['mood'] = df['text'].apply(get_mood)\n"
   ]
  },
  {
   "cell_type": "code",
   "execution_count": 25,
   "id": "419f90f2",
   "metadata": {},
   "outputs": [],
   "source": [
    "df.to_csv('million_song_with_genre_and_mood.csv', index=False)"
   ]
  },
  {
   "cell_type": "code",
   "execution_count": null,
   "id": "b7b0ebdc",
   "metadata": {},
   "outputs": [],
   "source": []
  }
 ],
 "metadata": {
  "kernelspec": {
   "display_name": "base",
   "language": "python",
   "name": "python3"
  },
  "language_info": {
   "codemirror_mode": {
    "name": "ipython",
    "version": 3
   },
   "file_extension": ".py",
   "mimetype": "text/x-python",
   "name": "python",
   "nbconvert_exporter": "python",
   "pygments_lexer": "ipython3",
   "version": "3.12.7"
  }
 },
 "nbformat": 4,
 "nbformat_minor": 5
}
